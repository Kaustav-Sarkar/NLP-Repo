{
 "cells": [
  {
   "cell_type": "markdown",
   "source": [
    "# Introduction to NLP\n",
    "\n",
    "### In this notebook I have explained and shown the implementation of some of the common data preprocessing techniques for NLP using the nltk library \n",
    "\n",
    "#### **Tokenization**\n",
    "#### **Stopwords**\n",
    "#### **Stemming**\n",
    "#### **Lemmatization**\n",
    "#### **BagOfWords**"
   ],
   "metadata": {}
  },
  {
   "cell_type": "code",
   "execution_count": 1,
   "source": [
    "import nltk\r\n",
    "# nltk.download(\"all\")\r\n",
    "# execute the above cell if you have installed nltk and need to download the additional packages\r\n",
    "\r\n",
    "paragraph = \"\"\" The ultimate productivity hack is saying no.\r\n",
    "\r\n",
    "Not doing something will always be faster than doing it. This statement reminds me of the old computer programming saying, “Remember that there is no code faster than no code.”\r\n",
    "\r\n",
    "The same philosophy applies in other areas of life. For example, there is no meeting that goes faster than not having a meeting at all.\r\n",
    "\r\n",
    "This is not to say you should never attend another meeting, but the truth is that we say yes to many things we don't actually want to do. There are many meetings held that don't need to be held. There is a lot of code written that could be deleted.\r\n",
    "\r\n",
    "How often do people ask you to do something and you just reply, “Sure thing.” Three days later, you're overwhelmed by how much is on your to-do list. We become frustrated by our obligations even though we were the ones who said yes to them in the first place.\r\n",
    "\r\n",
    "It's worth asking if things are necessary. Many of them are not, and a simple “no” will be more productive than whatever work the most efficient person can muster.\r\n",
    "\r\n",
    "But if the benefits of saying no are so obvious, then why do we say yes so often?\r\n",
    "Why We Say Yes\r\n",
    "We agree to many requests not because we want to do them, but because we don't want to be seen as rude, arrogant, or unhelpful. Often, you have to consider saying no to someone you will interact with again in the future—your co-worker, your spouse, your family and friends.\r\n",
    "\r\n",
    "Saying no to these people can be particularly difficult because we like them and want to support them. (Not to mention, we often need their help too.) Collaborating with others is an important element of life. The thought of straining the relationship outweighs the commitment of our time and energy.\r\n",
    "\r\n",
    "For this reason, it can be helpful to be gracious in your response. Do whatever favors you can, and be warm-hearted and direct when you have to say no.\r\n",
    "\r\n",
    "But even after we have accounted for these social considerations, many of us still seem to do a poor job of managing the tradeoff between yes and no. We find ourselves over-committed to things that don't meaningfully improve or support those around us, and certainly don't improve our own lives.\r\n",
    "\r\n",
    "Perhaps one issue is how we think about the meaning of yes and no.\r\n",
    "\r\n",
    "The Difference Between Yes and No\r\n",
    "The words “yes” and “no” get used in comparison to each other so often that it feels like they carry equal weight in conversation. In reality, they are not just opposite in meaning, but of entirely different magnitudes in commitment.\r\n",
    "\r\n",
    "When you say no, you are only saying no to one option. When you say yes, you are saying no to every other option.\r\n",
    "\r\n",
    "I like how the economist Tim Harford put it, “Every time we say yes to a request, we are also saying no to anything else we might accomplish with the time.” Once you have committed to something, you have already decided how that future block of time will be spent.\r\n",
    "\r\n",
    "In other words, saying no saves you time in the future. Saying yes costs you time in the future. No is a form of time credit. You retain the ability to spend your future time however you want. Yes is a form of time debt. You have to pay back your commitment at some point.\r\n",
    "\r\n",
    "No is a decision. Yes is a responsibility.\r\n",
    "\r\n",
    "The Role of No\r\n",
    "Saying no is sometimes seen as a luxury that only those in power can afford. And it is true: turning down opportunities is easier when you can fall back on the safety net provided by power, money, and authority. But it is also true that saying no is not merely a privilege reserved for the successful among us. It is also a strategy that can help you become successful.\r\n",
    "\r\n",
    "Saying no is an important skill to develop at any stage of your career because it retains the most important asset in life: your time. As the investor Pedro Sorrentino put it, “If you don’t guard your time, people will steal it from you.”\r\n",
    "\r\n",
    "You need to say no to whatever isn't leading you toward your goals. You need to say no to distractions. As one reader told me, “If you broaden the definition as to how you apply no, it actually is the only productivity hack (as you ultimately say no to any distraction in order to be productive).”\r\n",
    "\r\n",
    "Nobody embodied this idea better than Steve Jobs, who said, “People think focus means saying yes to the thing you’ve got to focus on. But that’s not what it means at all. It means saying no to the hundred other good ideas that there are. You have to pick carefully.”\r\n",
    "\r\n",
    "There is an important balance to strike here. Saying no doesn't mean you'll never do anything interesting or innovative or spontaneous. It just means that you say yes in a focused way. Once you have knocked out the distractions, it can make sense to say yes to any opportunity that could potentially move you in the right direction. You may have to try many things to discover what works and what you enjoy. This period of exploration can be particularly important at the beginning of a project, job, or career.\r\n",
    "\r\n",
    "Upgrading Your No\r\n",
    "Over time, as you continue to improve and succeed, your strategy needs to change.\r\n",
    "\r\n",
    "The opportunity cost of your time increases as you become more successful. At first, you just eliminate the obvious distractions and explore the rest. As your skills improve and you learn to separate what works from what doesn't, you have to continually increase your threshold for saying yes.\r\n",
    "\r\n",
    "You still need to say no to distractions, but you also need to learn to say no to opportunities that were previously good uses of time, so you can make space for great uses of time. It's a good problem to have, but it can be a tough skill to master.\r\n",
    "\r\n",
    "In other words, you have to upgrade your “no's” over time.\r\n",
    "\r\n",
    "Upgrading your no doesn't mean you'll never say yes. It just means you default to saying no and only say yes when it really makes sense. To quote the investor Brent Beshore, “Saying no is so powerful because it preserves the opportunity to say yes.”\r\n",
    "\r\n",
    "The general trend seems to be something like this: If you can learn to say no to bad distractions, then eventually you'll earn the right to say no to good opportunities.\r\n",
    "\r\n",
    "How to Say No\r\n",
    "Most of us are probably too quick to say yes and too slow to say no. It's worth asking yourself where you fall on that spectrum.\r\n",
    "\r\n",
    "If you have trouble saying no, you may find the following strategy proposed by Tim Harford, the British economist I mentioned earlier, to be helpful. He writes, “One trick is to ask, “If I had to do this today, would I agree to it?” It’s not a bad rule of thumb, since any future commitment, no matter how far away it might be, will eventually become an imminent problem.”\r\n",
    "\r\n",
    "If an opportunity is exciting enough to drop whatever you're doing right now, then it's a yes. If it's not, then perhaps you should think twice.\r\n",
    "\r\n",
    "This is similar to the well-known “Hell Yeah or No” method from Derek Sivers. If someone asks you to do something and your first reaction is “Hell Yeah!”, then do it. If it doesn't excite you, then say no.\r\n",
    "\r\n",
    "It's impossible to remember to ask yourself these questions each time you face a decision, but it's still a useful exercise to revisit from time to time. Saying no can be difficult, but it is often easier than the alternative. As writer Mike Dariano has pointed out, “It’s easier to avoid commitments than get out of commitments. Saying no keeps you toward the easier end of this spectrum.”\r\n",
    "\r\n",
    "What is true about health is also true about productivity: an ounce of prevention is worth a pound of cure.\r\n",
    "\r\n",
    "The Power of No\r\n",
    "More effort is wasted doing things that don't matter than is wasted doing things inefficiently. And if that is the case, elimination is a more useful skill than optimization.\r\n",
    "\r\n",
    "I am reminded of the famous Peter Drucker quote, “There is nothing so useless as doing efficiently that which should not be done at all.” \"\"\"\r\n",
    "\r\n"
   ],
   "outputs": [],
   "metadata": {}
  },
  {
   "cell_type": "markdown",
   "source": [
    "# Tokenization:- \n",
    "It is the process of breaking down a larger text into smaller blocks.\n",
    "\n",
    "* paragraphs to sentences\n",
    "\n",
    "* sentences to words"
   ],
   "metadata": {}
  },
  {
   "cell_type": "code",
   "execution_count": 2,
   "source": [
    "# Tokenize sentences\r\n",
    "Sentences = nltk.sent_tokenize(paragraph)\r\n",
    "\r\n",
    "# Tokenizing words\r\n",
    "Words = nltk.word_tokenize(paragraph)\r\n",
    "print(\"A few sentences after applying tokenization\\n\")\r\n",
    "for i in range(3,6):\r\n",
    "    print(Sentences[i])\r\n",
    "print(\"\\nFirst 10 Words: \")\r\n",
    "print(Words[:10])"
   ],
   "outputs": [
    {
     "output_type": "stream",
     "name": "stdout",
     "text": [
      "A few sentences after applying tokenization\n",
      "\n",
      "For example, there is no meeting that goes faster than not having a meeting at all.\n",
      "This is not to say you should never attend another meeting, but the truth is that we say yes to many things we don't actually want to do.\n",
      "There are many meetings held that don't need to be held.\n",
      "\n",
      "First 10 Words: \n",
      "['The', 'ultimate', 'productivity', 'hack', 'is', 'saying', 'no', '.', 'Not', 'doing']\n"
     ]
    }
   ],
   "metadata": {}
  },
  {
   "cell_type": "markdown",
   "source": [
    "# Stemming:\n",
    "Stemming is the process of converting the affected words into their stem words\n",
    "\n",
    "* History Historical -> Histor\n",
    "\n",
    "* Wait Waiting Waited -> Wait\n"
   ],
   "metadata": {}
  },
  {
   "cell_type": "markdown",
   "source": [
    "# Stopwords\n",
    "Adjectives, prepositions, words like them, there etc do not add value to some use cases and are repeated. To remove the dependency of the algorithm from such words we apply stop words."
   ],
   "metadata": {}
  },
  {
   "cell_type": "code",
   "execution_count": 3,
   "source": [
    "from nltk.stem import PorterStemmer\r\n",
    "from nltk.corpus import stopwords  # has a variety of stopwords for various languages -> stopwords.words(\"language\")\r\n",
    "\r\n",
    "stemmer = PorterStemmer()\r\n",
    "sentences = nltk.sent_tokenize(paragraph)\r\n",
    "for i in range(len(sentences)):\r\n",
    "    words = nltk.word_tokenize(sentences[i])\r\n",
    "    words = [stemmer.stem(word) for word in words if word not in set(stopwords.words('english'))] # Applying stemming and lammetization \r\n",
    "    sentences[i] = ' '.join(words) # Joining the words again after preprocessing it.\r\n",
    "\r\n",
    "for i in range(0,5):\r\n",
    "    print(sentences[i])"
   ],
   "outputs": [
    {
     "output_type": "stream",
     "name": "stdout",
     "text": [
      "the ultim product hack say .\n",
      "not someth alway faster .\n",
      "thi statement remind old comput program say , “ rememb code faster code. ” the philosophi appli area life .\n",
      "for exampl , meet goe faster meet .\n",
      "thi say never attend anoth meet , truth say ye mani thing n't actual want .\n"
     ]
    }
   ],
   "metadata": {}
  },
  {
   "cell_type": "markdown",
   "source": [
    "# Shortcomings of Stemming\n",
    "Can come up with words that have no meaning as senn in the above block\n",
    "\n",
    "Sometimes it creates false positives too like \n",
    "\n",
    "* Universe Universal University -> Univers  \n",
    "\n",
    "These above words don't have the same meaning yet after applying stemming, we get the same output"
   ],
   "metadata": {}
  },
  {
   "cell_type": "markdown",
   "source": [
    "# Lemmatization\n",
    "Similar to Stemming but converts into meaningful words\n",
    "* History Historical -> History"
   ],
   "metadata": {}
  },
  {
   "cell_type": "code",
   "execution_count": 4,
   "source": [
    "from nltk.stem import WordNetLemmatizer\r\n",
    "lemmatizer = WordNetLemmatizer()\r\n",
    "sentences = nltk.sent_tokenize(paragraph)\r\n",
    "for i in range(len(sentences)):\r\n",
    "    words = nltk.word_tokenize(sentences[i])\r\n",
    "    words = [lemmatizer.lemmatize(word) for word in words if word not in set(stopwords.words('english'))] # Applying stemming and lammetization \r\n",
    "    sentences[i] = ' '.join(words) # Joining the words again after preprocessing it.\r\n",
    "\r\n",
    "for i in range(0,5):\r\n",
    "    print(sentences[i])\r\n"
   ],
   "outputs": [
    {
     "output_type": "stream",
     "name": "stdout",
     "text": [
      "The ultimate productivity hack saying .\n",
      "Not something always faster .\n",
      "This statement reminds old computer programming saying , “ Remember code faster code. ” The philosophy applies area life .\n",
      "For example , meeting go faster meeting .\n",
      "This say never attend another meeting , truth say yes many thing n't actually want .\n"
     ]
    }
   ],
   "metadata": {}
  },
  {
   "cell_type": "markdown",
   "source": [
    "### Provides a much better representation of the actual word. In practical applications lemmatization is always preferred over stremming"
   ],
   "metadata": {}
  },
  {
   "cell_type": "markdown",
   "source": [
    "# Bag Of Words:-\n",
    "### Bag of words is converting a sentence to a vector:\n",
    "* S1 : Avengers is a good movie and Thor is an avenger.\n",
    "* S2 : IronMan is an Avenger \n",
    "* S3 : CaptainAmerica is the leader of the Avengers\n",
    "\n",
    "The sentences are preprocessed with lemmatization and stopwords\n",
    "\n",
    "We take the words and form a vector with the sentence number as y axis word as x axis\n",
    "\n",
    "| BOG | avenger | good | movie | thor | ironman | captainamerica | leader|\n",
    "| --- | --- | --- | --- | --- | --- | --- | --- |\n",
    "| S1\t| 2\t| 1\t| 1\t| 1\t| 0\t| 0\t| 0 |\n",
    "| S2\t| 1\t| 0\t| 0\t| 0\t| 1\t| 0\t| 0 |\n",
    "| S3\t| 1\t| 0\t| 0\t| 0\t| 0\t| 1\t| 1 |\n"
   ],
   "metadata": {}
  },
  {
   "cell_type": "code",
   "execution_count": 5,
   "source": [
    "import re \r\n",
    "sentences = nltk.sent_tokenize(paragraph)\r\n",
    "for i in range(len(sentences)):\r\n",
    "    sentence = re.sub('[^a-zA-Z]', ' ', sentences[i])\r\n",
    "    sentence = sentence.lower()\r\n",
    "    #sentence = re.sub(' +', ' ', sentence) # Removes additional spaces but its not needed .split() handles it.\r\n",
    "    words = sentence.split()\r\n",
    "    words = [lemmatizer.lemmatize(word) for word in words if word not in set(stopwords.words('english')) ]\r\n",
    "    words = (' ').join(words)\r\n",
    "    sentences[i] = words\r\n",
    "for i in range(0,5):\r\n",
    "    print(sentences[i])"
   ],
   "outputs": [
    {
     "output_type": "stream",
     "name": "stdout",
     "text": [
      "ultimate productivity hack saying\n",
      "something always faster\n",
      "statement reminds old computer programming saying remember code faster code philosophy applies area life\n",
      "example meeting go faster meeting\n",
      "say never attend another meeting truth say yes many thing actually want\n"
     ]
    }
   ],
   "metadata": {}
  },
  {
   "cell_type": "code",
   "execution_count": 6,
   "source": [
    "from sklearn.feature_extraction.text import CountVectorizer\r\n",
    "cv = CountVectorizer()\r\n",
    "bag_of_words = cv.fit_transform(sentences).toarray()\r\n",
    "print(\"No of sentences = \"+str(bag_of_words.shape[0])+\"\\nNo of words = \"+str(bag_of_words.shape[1]))"
   ],
   "outputs": [
    {
     "output_type": "stream",
     "name": "stdout",
     "text": [
      "No of sentences = 77\n",
      "No of words = 351\n"
     ]
    }
   ],
   "metadata": {}
  },
  {
   "cell_type": "markdown",
   "source": [
    "# TFIDF \n",
    "### Term Frequency Inverse Document Frequency\n",
    "\n",
    "It is a technique to quantify a word in documents, we generally compute a weight to each word which signifies the importance of the word in the document and corpus. This method is a widely used technique in Information Retrieval and Text Mining.\n",
    "\n",
    "\n",
    "S1 : Avengers is a good movie and Thor is an avenger.\n",
    "\n",
    "S2 : IronMan is an Avenger \n",
    "\n",
    "S3 : CaptainAmerica is the leader of the Avengers\n",
    "\n",
    "\n",
    "After pre-processing:\n",
    "\n",
    "S1 : avenger good movie thor avenger\n",
    "\n",
    "S2 : ironman avenger \n",
    "\n",
    "S3 : captainamerica leader avenger\n",
    "\n",
    "\n",
    "    Term Frequency (TF) = No. Of repetitions of a word in a sentence/ No. Of words in a sentence\n",
    "    \n",
    "\n",
    "    Inverse Document Frequency (IDF) = log( No. Of sentences / No. Of sentences containing the word)\n",
    "    \n",
    "eg TF of avenger in sentence 1 is 2 (no of times avenger occurs) / 5 (no of words in the first sentence) = 2/5\n",
    "    \n",
    "eg IDF of thor is log( 3 (number of sentences) / 1 (no of sentenced thor appears in) = log(3)\n",
    "\n",
    "eg TFIDF of thor in 1st sentence is:  TF (thor | sentence 1)  * IDF (thor) = 1/5 * log(3) = 0.22 (rounded)\n",
    "\n",
    "<center> TF Table </center>\n",
    "\n",
    "| TF | avenger | good | movie | thor | ironman | captainamerica | leader|\n",
    "| :---: | :---: | :---: | :---: | :---: | :---: | :---: | :---: |\n",
    "| S1\t| 2/5\t| 1/5\t| 1/5\t| 1/5\t| 0\t| 0\t| 0 |\n",
    "| S2\t| 1/2\t| 0\t| 0\t| 0\t| 1/2\t| 0\t| 0 |\n",
    "| S3\t| 1/3\t| 0\t| 0\t| 0\t| 0\t| 1/3\t| 1/3 |\n",
    "\n",
    "<center> IDF Table </center>\n",
    "\n",
    "| Words | avenger | good | movie | thor | ironman | captainamerica | leader|\n",
    "| :---: | :---: | :---: | :---: | :---: | :---: | :---: | :---: |\n",
    "| TDF\t| log(3/3)\t| log(3/1)\t| log(3/1)\t| log(3/1)\t| log(3/1)\t| log(3/1)\t| log(3/1) |\n",
    "\n",
    "<center> TFIDF Table </center>\n",
    "\n",
    "| TFIDF | avenger | good | movie | thor | ironman | captainamerica | leader|\n",
    "| :---: | :---: | :---: | :---: | :---: | :---: | :---: | :---: |\n",
    "| S1\t| 0\t| 0.22\t| 0.22\t| 0.22\t| 0\t| 0\t| 0 |\n",
    "| S2\t| 0\t| 0\t| 0\t| 0\t| 0.55 | 0\t| 0 |\n",
    "| S3\t| 0\t| 0\t| 0\t| 0\t| 0\t| 0.37\t| 0.37 |\n"
   ],
   "metadata": {}
  },
  {
   "cell_type": "code",
   "execution_count": 7,
   "source": [
    "# Using the same sentences array from bag of words \r\n",
    "import pandas as pd\r\n",
    "from sklearn.feature_extraction.text import TfidfVectorizer\r\n",
    "tfidf = TfidfVectorizer()\r\n",
    "tfidf_df = pd.DataFrame(tfidf.fit_transform(sentences).toarray())\r\n",
    "print(\"No of sentences = \" +\r\n",
    "      str(tfidf_df.shape[0])+\"\\nNo of words = \"+str(tfidf_df.shape[1]))\r\n"
   ],
   "outputs": [
    {
     "output_type": "stream",
     "name": "stdout",
     "text": [
      "No of sentences = 77\n",
      "No of words = 351\n"
     ]
    }
   ],
   "metadata": {}
  },
  {
   "cell_type": "code",
   "execution_count": null,
   "source": [],
   "outputs": [],
   "metadata": {}
  }
 ],
 "metadata": {
  "kernelspec": {
   "name": "python3",
   "display_name": "Python 3.7.6 64-bit"
  },
  "language_info": {
   "codemirror_mode": {
    "name": "ipython",
    "version": 3
   },
   "file_extension": ".py",
   "mimetype": "text/x-python",
   "name": "python",
   "nbconvert_exporter": "python",
   "pygments_lexer": "ipython3",
   "version": "3.7.6"
  },
  "interpreter": {
   "hash": "3cf1d7d9cf6aaa471ee84f99d6a6e35d07afcb85aa086f8d138a8d452898b050"
  }
 },
 "nbformat": 4,
 "nbformat_minor": 4
}